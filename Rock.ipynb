{
 "cells": [
  {
   "cell_type": "code",
   "execution_count": 2,
   "id": "0373ea39-c6f1-4603-9b5e-4c58aaad3f67",
   "metadata": {},
   "outputs": [],
   "source": [
    "import random"
   ]
  },
  {
   "cell_type": "code",
   "execution_count": 10,
   "id": "ac16b4e2-2005-4062-9b29-37b98f516d21",
   "metadata": {},
   "outputs": [],
   "source": [
    "# Define possible actions\n",
    "ACTIONS = ['R', 'P', 'S']\n",
    "\n",
    "# Reward function\n",
    "def get_reward(agent_move, opponent_move):\n",
    "    if agent_move == opponent_move:\n",
    "        return 0\n",
    "    elif (agent_move == 'R' and opponent_move == 'S') or \\\n",
    "         (agent_move == 'P' and opponent_move == 'R') or \\\n",
    "         (agent_move == 'S' and opponent_move == 'P'):\n",
    "        return 1\n",
    "    else:\n",
    "        return -1\n"
   ]
  },
  {
   "cell_type": "code",
   "execution_count": 12,
   "id": "f6a569d8-d7d7-4878-a42f-8ffebd978fea",
   "metadata": {},
   "outputs": [],
   "source": [
    "# Opponent strategy: Rule-based\n",
    "def opponent_rule_based(prev_move):\n",
    "    if prev_move not in ACTIONS:\n",
    "        return random.choice(ACTIONS)\n",
    "    idx = ACTIONS.index(prev_move)\n",
    "    return ACTIONS[(idx + 1) % 3]\n"
   ]
  },
  {
   "cell_type": "code",
   "execution_count": 14,
   "id": "e7ff1816-bda5-4f46-b7a5-ca4eeb4904ca",
   "metadata": {},
   "outputs": [],
   "source": [
    "# Play one round\n",
    "def play_round(agent_move, strategy, prev_move=None):\n",
    "    if strategy == 'rule':\n",
    "        opponent_move = opponent_rule_based(prev_move)\n",
    "    else:\n",
    "        opponent_move = random.choice(ACTIONS)\n",
    "    reward = get_reward(agent_move, opponent_move)\n",
    "    return opponent_move, reward\n"
   ]
  },
  {
   "cell_type": "code",
   "execution_count": 16,
   "id": "72d6ab65-11cd-4fb1-a383-50e991b075cd",
   "metadata": {},
   "outputs": [
    {
     "name": "stdout",
     "output_type": "stream",
     "text": [
      "Agent: R, Opponent: R, Result: 0\n"
     ]
    }
   ],
   "source": [
    "# Now call it\n",
    "agent_action = 'R'\n",
    "opponent_action, result = play_round(agent_action, 'rule', 'S')\n",
    "print(f\"Agent: {agent_action}, Opponent: {opponent_action}, Result: {result}\")"
   ]
  },
  {
   "cell_type": "code",
   "execution_count": null,
   "id": "23a8b432-b369-4f2e-8664-4918b0cd6e1e",
   "metadata": {},
   "outputs": [],
   "source": []
  }
 ],
 "metadata": {
  "kernelspec": {
   "display_name": "Python [conda env:base] *",
   "language": "python",
   "name": "conda-base-py"
  },
  "language_info": {
   "codemirror_mode": {
    "name": "ipython",
    "version": 3
   },
   "file_extension": ".py",
   "mimetype": "text/x-python",
   "name": "python",
   "nbconvert_exporter": "python",
   "pygments_lexer": "ipython3",
   "version": "3.12.7"
  }
 },
 "nbformat": 4,
 "nbformat_minor": 5
}
